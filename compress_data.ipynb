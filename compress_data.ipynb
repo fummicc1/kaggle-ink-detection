{
 "cells": [
  {
   "cell_type": "code",
   "execution_count": 1,
   "metadata": {},
   "outputs": [
    {
     "name": "stdout",
     "output_type": "stream",
     "text": [
      "load to./sample_submission.csv\n",
      "load to./compress_data/train/1/inklabels.png\n",
      "load to./compress_data/train/1/inklabels_rle.csv\n",
      "load to./compress_data/train/1/ir.png\n",
      "load to./compress_data/train/1/mask.png\n",
      "load to./compress_data/train/2/inklabels.png\n",
      "load to./compress_data/train/2/inklabels_rle.csv\n",
      "load to./compress_data/train/2/ir.png\n",
      "load to./compress_data/train/2/mask.png\n",
      "load to./compress_data/train/3/inklabels.png\n",
      "load to./compress_data/train/3/inklabels_rle.csv\n",
      "load to./compress_data/train/3/ir.png\n",
      "load to./compress_data/train/3/mask.png\n"
     ]
    },
    {
     "name": "stderr",
     "output_type": "stream",
     "text": [
      "100%|██████████| 195/195 [27:13<00:00,  8.38s/it]\n"
     ]
    },
    {
     "name": "stdout",
     "output_type": "stream",
     "text": [
      "load to./compress_data/test/a/mask.png\n",
      "load to./compress_data/test/b/mask.png\n"
     ]
    },
    {
     "name": "stderr",
     "output_type": "stream",
     "text": [
      "100%|██████████| 130/130 [05:27<00:00,  2.52s/it]\n"
     ]
    }
   ],
   "source": [
    "from glob import glob \n",
    "import os,cv2\n",
    "import tqdm ,shutil\n",
    "target_path=\"./compress_data/\"\n",
    "# DATA_DIR = \"/home/fummicc1/codes/Kaggle/kaggle-ink-detection/\"\n",
    "DATA_DIR = \"/home/fummicc1/codes/competitions/kaggle-ink-detection/\"\n",
    "# DATA_DIR = \"/kaggle/input/vesuvius-challenge-ink-detection/\"\n",
    "if not os.path.exists(target_path):\n",
    "    os.mkdir(target_path)\n",
    "    \n",
    "shutil.copy(f\"{DATA_DIR}sample_submission.csv\",\"./sample_submission_tmp.csv\")\n",
    "print(\"load to\"+\"./sample_submission.csv\")\n",
    "    \n",
    "for data_source in [\"train\",\"test\"]:\n",
    "    for scr in glob(f\"{DATA_DIR}{data_source}/*/*\",recursive=True):\n",
    "        path=\"/\".join(scr.split(\"/\")[-3:])\n",
    "        path=target_path+path\n",
    "        if not os.path.exists(\"/\".join(path.split(\"/\")[:-2])):\n",
    "            os.mkdir(\"/\".join(path.split(\"/\")[:-2]))\n",
    "        if not os.path.exists(\"/\".join(path.split(\"/\")[:-1])):\n",
    "            os.mkdir(\"/\".join(path.split(\"/\")[:-1]))\n",
    "        if os.path.isdir(scr):\n",
    "            continue\n",
    "        print(\"load to\"+path)\n",
    "        shutil.copy(scr,path)\n",
    "\n",
    "\n",
    "    for path in tqdm.tqdm(glob(f\"{DATA_DIR}{data_source}/*/surface_volume/*.tif\",recursive=True)):\n",
    "        image = cv2.imread(path, 0)\n",
    "        path=\"/\".join(path.split(\"/\")[-4:])[:-4]\n",
    "        path=target_path+path\n",
    "        #print(image.shape)\n",
    "\n",
    "        if not os.path.exists(\"/\".join(path.split(\"/\")[:-3])):\n",
    "            os.mkdir(\"/\".join(path.split(\"/\")[:-3]))\n",
    "        if not os.path.exists(\"/\".join(path.split(\"/\")[:-2])):\n",
    "            os.mkdir(\"/\".join(path.split(\"/\")[:-2]))\n",
    "        if not os.path.exists(\"/\".join(path.split(\"/\")[:-1])):\n",
    "            os.mkdir(\"/\".join(path.split(\"/\")[:-1]))\n",
    "        #print(\"load to\"+path)\n",
    "        cv2.imwrite(path+\".png\", image, [cv2.IMWRITE_PNG_COMPRESSION, 9])\n",
    "        #cv2.imwrite(path+\".jpg\", image, [cv2.IMWRITE_JPEG_QUALITY, 0])"
   ]
  }
 ],
 "metadata": {
  "kernelspec": {
   "display_name": "ink-detection-3_8",
   "language": "python",
   "name": "python3"
  },
  "language_info": {
   "codemirror_mode": {
    "name": "ipython",
    "version": 3
   },
   "file_extension": ".py",
   "mimetype": "text/x-python",
   "name": "python",
   "nbconvert_exporter": "python",
   "pygments_lexer": "ipython3",
   "version": "3.8.16"
  },
  "orig_nbformat": 4
 },
 "nbformat": 4,
 "nbformat_minor": 2
}
