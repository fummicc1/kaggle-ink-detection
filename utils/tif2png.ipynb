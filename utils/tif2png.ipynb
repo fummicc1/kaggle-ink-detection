{
 "cells": [
  {
   "cell_type": "code",
   "execution_count": 7,
   "metadata": {},
   "outputs": [
    {
     "name": "stdout",
     "output_type": "stream",
     "text": [
      "65535\n",
      "65535\n",
      "65535\n",
      "65535\n"
     ]
    },
    {
     "ename": "KeyboardInterrupt",
     "evalue": "",
     "output_type": "error",
     "traceback": [
      "\u001b[0;31m---------------------------------------------------------------------------\u001b[0m",
      "\u001b[0;31mKeyboardInterrupt\u001b[0m                         Traceback (most recent call last)",
      "Cell \u001b[0;32mIn[7], line 22\u001b[0m\n\u001b[1;32m     20\u001b[0m \u001b[39m# 画像の保存\u001b[39;00m\n\u001b[1;32m     21\u001b[0m png_image_path \u001b[39m=\u001b[39m image_path\u001b[39m.\u001b[39msplit(\u001b[39m\"\u001b[39m\u001b[39m.\u001b[39m\u001b[39m\"\u001b[39m)[\u001b[39m0\u001b[39m] \u001b[39m+\u001b[39m \u001b[39m\"\u001b[39m\u001b[39m.png\u001b[39m\u001b[39m\"\u001b[39m\n\u001b[0;32m---> 22\u001b[0m cv2\u001b[39m.\u001b[39;49mimwrite(png_image_path, img)\n",
      "\u001b[0;31mKeyboardInterrupt\u001b[0m: "
     ]
    }
   ],
   "source": [
    "import cv2\n",
    "import numpy as np\n",
    "import matplotlib.pyplot as plt\n",
    "import os\n",
    "\n",
    "for i in range(65):\n",
    "    image_path = \"/home/fummicc1/codes/competitions/kaggle-ink-detection/test/a/surface_volume/{:02d}.tif\".format(i)\n",
    "\n",
    "    if not os.path.exists(image_path):\n",
    "        image_path = os.path.join(os.getcwd(), image_path)\n",
    "\n",
    "    # 画像の読み込み \n",
    "    img = cv2.imread(image_path, -1)\n",
    "\n",
    "    # カラーデータの色空間の変換 \n",
    "    img = cv2.cvtColor(img, cv2.COLOR_BGR2RGB)\n",
    "\n",
    "    print(img[img != 0].max())\n",
    "\n",
    "    # 画像の保存\n",
    "    png_image_path = image_path.split(\".\")[0] + \".png\"\n",
    "    cv2.imwrite(png_image_path, img)\n"
   ]
  }
 ],
 "metadata": {
  "kernelspec": {
   "display_name": "ink-detection",
   "language": "python",
   "name": "python3"
  },
  "language_info": {
   "codemirror_mode": {
    "name": "ipython",
    "version": 3
   },
   "file_extension": ".py",
   "mimetype": "text/x-python",
   "name": "python",
   "nbconvert_exporter": "python",
   "pygments_lexer": "ipython3",
   "version": "3.11.3"
  },
  "orig_nbformat": 4
 },
 "nbformat": 4,
 "nbformat_minor": 2
}
